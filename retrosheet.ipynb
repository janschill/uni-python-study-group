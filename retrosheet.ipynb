{
 "nbformat": 4,
 "nbformat_minor": 2,
 "metadata": {
  "language_info": {
   "name": "python",
   "codemirror_mode": {
    "name": "ipython",
    "version": 3
   },
   "version": "3.7.4-final"
  },
  "orig_nbformat": 2,
  "file_extension": ".py",
  "mimetype": "text/x-python",
  "name": "python",
  "npconvert_exporter": "python",
  "pygments_lexer": "ipython3",
  "version": 3,
  "kernelspec": {
   "name": "python37464bitcb14106912414518be329d616dad403d",
   "display_name": "Python 3.7.4 64-bit"
  }
 },
 "cells": [
  {
   "cell_type": "markdown",
   "metadata": {},
   "source": [
    "# Retrosheet"
   ]
  },
  {
   "cell_type": "code",
   "execution_count": 11,
   "metadata": {},
   "outputs": [],
   "source": [
    "import csv\n",
    "import inspect"
   ]
  },
  {
   "cell_type": "code",
   "execution_count": 37,
   "metadata": {},
   "outputs": [],
   "source": [
    "class Game:\n",
    "    attendance = 0\n",
    "\n",
    "    def __init__(self):\n",
    "        self.data = []"
   ]
  },
  {
   "cell_type": "code",
   "execution_count": 40,
   "metadata": {},
   "outputs": [
    {
     "name": "stdout",
     "output_type": "stream",
     "text": "48338\n35969\n31565\n16620\n15871\n15449\n22209\n27256\n25489\n30664\n27793\n29477\n36352\n31365\n17751\n21932\n33168\n27460\n15418\n21047\n17258\n26806\n25014\n24061\n24664\n34888\n26945\n24124\n29784\n22753\n22954\n21773\n23294\n29312\n32082\n25071\n24675\n27927\n28752\n43056\n28276\n22964\n23985\n28505\n38567\n33111\n19192\n20253\n20452\n24298\n33966\n22976\n18319\n17446\n18140\n19037\n23642\n35366\n26079\n15443\n17691\n17707\n22581\n34149\n50180\n34439\n23477\n15402\n18096\n35158\n35151\n25193\n15897\n19745\n17731\n24826\n26097\n21420\n32244\n46477\n45446\n"
    }
   ],
   "source": [
    "games = []\n",
    "with open('data/2019eve/2019ARI.EVN') as azfile:\n",
    "    azreader = csv.reader(azfile, delimiter=',', quotechar='\"')\n",
    "    for row in azreader:\n",
    "        if row[0] == 'info' and row[1] == 'attendance':\n",
    "            g = Game()\n",
    "            g.attendance = int(row[2])\n",
    "            games.append(g)\n",
    "\n",
    "for game in games:\n",
    "    print(game.attendance)"
   ]
  }
 ]
}